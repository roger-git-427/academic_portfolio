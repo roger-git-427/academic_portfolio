{
 "cells": [
  {
   "cell_type": "code",
   "execution_count": 1,
   "id": "bd7efba8",
   "metadata": {},
   "outputs": [],
   "source": [
    "import pandas as pd"
   ]
  },
  {
   "cell_type": "code",
   "execution_count": 4,
   "id": "73d5fe50",
   "metadata": {},
   "outputs": [
    {
     "data": {
      "text/plain": [
       "Index(['ID_Reserva', 'Fecha_hoy', 'h_res_fec', 'h_num_per', 'h_num_adu',\n",
       "       'h_num_men', 'h_num_noc', 'h_tot_hab', 'ID_Programa', 'ID_Paquete',\n",
       "       'ID_Segmento_Comp', 'ID_Agencia', 'ID_empresa', 'ID_Tipo_Habitacion',\n",
       "       'ID_canal', 'ID_Pais_Origen', 'ID_estatus_reservaciones', 'h_fec_lld',\n",
       "       'h_fec_reg', 'h_fec_sda', 'Canal_nombre', 'Empresa_nombre',\n",
       "       'Habitaciones_tot', 'Agencia_nombre', 'Ciudad_Nombre',\n",
       "       'estatus_reservaciones', 'Ciudad_Normalizada'],\n",
       "      dtype='object')"
      ]
     },
     "execution_count": 4,
     "metadata": {},
     "output_type": "execute_result"
    }
   ],
   "source": [
    "df = pd.read_parquet('C:/Users/vhgar/source/repos/TSA-Dashboard/frontend/data/reservations_filtered.parquet')\n",
    "\n",
    "df.columns"
   ]
  },
  {
   "cell_type": "code",
   "execution_count": 5,
   "id": "3396c3a5",
   "metadata": {},
   "outputs": [
    {
     "name": "stderr",
     "output_type": "stream",
     "text": [
      "C:\\Users\\vhgar\\AppData\\Local\\Temp\\ipykernel_3488\\1798469452.py:1: DtypeWarning: Columns (22,28) have mixed types. Specify dtype option on import or set low_memory=False.\n",
      "  df2 = pd.read_csv('C:/Users/vhgar/source/repos/TSA-Dashboard/frontend/data/reservaciones_tcabdfront2.csv')\n"
     ]
    },
    {
     "data": {
      "text/plain": [
       "Index(['ID_Reserva', 'Fecha_hoy', 'h_res_fec', 'h_res_fec_ok', 'h_res_fec_okt',\n",
       "       'h_num_per', 'aa_h_num_per', 'h_num_adu', 'aa_h_num_adu', 'h_num_men',\n",
       "       'aa_h_num_men', 'h_num_noc', 'aa_h_num_noc', 'h_tot_hab',\n",
       "       'aa_h_tot_hab', 'ID_Programa', 'ID_Paquete', 'ID_Segmento_Comp',\n",
       "       'ID_Agencia', 'ID_empresa', 'ID_Tipo_Habitacion', 'ID_canal',\n",
       "       'h_fec_lld', 'h_fec_lld_ok', 'h_fec_lld_okt', 'h_fec_reg',\n",
       "       'h_fec_reg_ok', 'h_fec_reg_okt', 'h_fec_sda', 'h_fec_sda_ok',\n",
       "       'h_fec_sda_okt', 'ID_Pais_Origen', 'Cliente_Disp', 'aa_Cliente_Disp',\n",
       "       'Reservacion', 'aa_Reservacion', 'ID_estatus_reservaciones',\n",
       "       'h_can_res', 'h_cod_reserva', 'h_edo', 'h_codigop', 'h_correo_e',\n",
       "       'h_nom', 'h_tfa_total', 'aa_h_tfa_total', 'moneda_cve', 'h_ult_cam_fec',\n",
       "       'h_ult_cam_fec_ok', 'h_ult_cam_fec_okt'],\n",
       "      dtype='object')"
      ]
     },
     "execution_count": 5,
     "metadata": {},
     "output_type": "execute_result"
    }
   ],
   "source": [
    "df2 = pd.read_csv('C:/Users/vhgar/source/repos/TSA-Dashboard/frontend/data/reservaciones_tcabdfront2.csv')\n",
    "\n",
    "df2.columns\n"
   ]
  },
  {
   "cell_type": "code",
   "execution_count": null,
   "id": "fbdaecb9",
   "metadata": {},
   "outputs": [],
   "source": []
  }
 ],
 "metadata": {
  "kernelspec": {
   "display_name": ".venv",
   "language": "python",
   "name": "python3"
  },
  "language_info": {
   "codemirror_mode": {
    "name": "ipython",
    "version": 3
   },
   "file_extension": ".py",
   "mimetype": "text/x-python",
   "name": "python",
   "nbconvert_exporter": "python",
   "pygments_lexer": "ipython3",
   "version": "3.13.2"
  }
 },
 "nbformat": 4,
 "nbformat_minor": 5
}
